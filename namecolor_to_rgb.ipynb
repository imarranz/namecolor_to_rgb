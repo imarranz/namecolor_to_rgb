{
 "cells": [
  {
   "cell_type": "markdown",
   "metadata": {},
   "source": [
    "## Introduction"
   ]
  },
  {
   "cell_type": "markdown",
   "metadata": {},
   "source": [
    "There are a lot of libraries about colors in python and there are several ways to apply color to our plots: RGB, tuples and we can even color by names (matplotlib) but I like the xcolor a LaTeX package. By this package we can apply color using expressions like `green!40!yellow`. What means this? the final color is a mixture between green and yellow with a 40% of green and 60% of yellow. Expressions like `blue!70!red!20` is also allowed and means that the final color is a mixture between blue and red  with a 70% of blue and 30% of red and also the value 20 at the end of the expression means that we will give the color 20% transparency.\n",
    "\n",
    "In addition, it allows to calculate the complementary color following the equations:\n",
    "\n",
    "Let r, g, and b be RGB components of the original colora and let rc, gc, and bc be RGB components of the complementary color.\n",
    "\n",
    "Then:\n",
    "\n",
    "rc = max(r,g,b) + min(r,g,b) - r   \n",
    "gc = max(r,g,b) + min(r,g,b) - g  \n",
    "bc = max(r,g,b) + min(r,g,b) - b\n",
    "\n",
    "This is great for me and it is a very nice way to create new colors.\n",
    "\n",
    "For this reason I have created the `namecolor_to_rgb` function, to translate this expressions to a list and this list can be applied as color in Python.\n",
    "\n",
    "Only is mandatory load the `to_rgb` function from matplotlib.colors. This is necessary to translate the color names to rgb. You also need the `np.max` and `np.min` functions from the numpy package.\n",
    "\n",
    "The list of color names in matplotlib is the following."
   ]
  },
  {
   "cell_type": "markdown",
   "metadata": {
    "jupyter": {
     "source_hidden": true
    }
   },
   "source": [
    "![](https://matplotlib.org/stable/_images/sphx_glr_named_colors_003.png)"
   ]
  },
  {
   "cell_type": "markdown",
   "metadata": {},
   "source": [
    "From `matplotlib.colors` can be loaded the dictionary `mcolors.CSS4_COLORS`. This is a dictionary with pairs color name and definition."
   ]
  },
  {
   "cell_type": "markdown",
   "metadata": {},
   "source": [
    "## Definition"
   ]
  },
  {
   "cell_type": "code",
   "execution_count": 56,
   "metadata": {},
   "outputs": [],
   "source": [
    "import matplotlib.pyplot as plt\n",
    "import numpy as np"
   ]
  },
  {
   "cell_type": "markdown",
   "metadata": {},
   "source": [
    "The function is very simple and translate from string to list of four numbers (from 0 to 1) that matplotlib understands as a color."
   ]
  },
  {
   "cell_type": "markdown",
   "metadata": {},
   "source": [
    "### namecolor_to_rgb"
   ]
  },
  {
   "cell_type": "code",
   "execution_count": 81,
   "metadata": {},
   "outputs": [],
   "source": [
    "from matplotlib.colors import to_rgb\n",
    "\n",
    "def namecolor_to_rgb(s, complementary = False):\n",
    "    \n",
    "    colors_ = s.split('!')\n",
    "    \n",
    "    color1_ = to_rgb(colors_[0])\n",
    "    color2_ = to_rgb(colors_[2])\n",
    "    proportion = int(colors_[1])\n",
    "\n",
    "    final_color = [0.0, 0.0, 0.0, 1.0]\n",
    "\n",
    "    for i_ in range(3):\n",
    "        final_color[i_] = color1_[i_] * proportion/100 + color2_[i_] * (100 - proportion)/100\n",
    "\n",
    "    if len(colors_) == 4:\n",
    "        final_color[3] = int(colors_[3])/100\n",
    "        \n",
    "        \n",
    "    if complementary:\n",
    "        rc = np.max(final_color[:3]) + np.min(final_color[:3]) - final_color[0]\n",
    "        gc = np.max(final_color[:3]) + np.min(final_color[:3]) - final_color[1]\n",
    "        bc = np.max(final_color[:3]) + np.min(final_color[:3]) - final_color[2]\n",
    "        \n",
    "        final_color[0] = rc\n",
    "        final_color[1] = gc\n",
    "        final_color[2] = bc\n",
    "            \n",
    "    return final_color    "
   ]
  },
  {
   "cell_type": "markdown",
   "metadata": {},
   "source": [
    "### Function output"
   ]
  },
  {
   "cell_type": "markdown",
   "metadata": {},
   "source": [
    "If with calling the function with three arguments, this is, without alpha argument."
   ]
  },
  {
   "cell_type": "code",
   "execution_count": 58,
   "metadata": {},
   "outputs": [
    {
     "data": {
      "text/plain": [
       "[1.0, 1.0, 0.2, 1.0]"
      ]
     },
     "execution_count": 58,
     "metadata": {},
     "output_type": "execute_result"
    }
   ],
   "source": [
    "namecolor_to_rgb('yellow!80!white')"
   ]
  },
  {
   "cell_type": "markdown",
   "metadata": {},
   "source": [
    "If we calling the function with alpha argument, this is, the alpha argument."
   ]
  },
  {
   "cell_type": "code",
   "execution_count": 59,
   "metadata": {},
   "outputs": [
    {
     "data": {
      "text/plain": [
       "[1.0, 1.0, 0.2, 0.5]"
      ]
     },
     "execution_count": 59,
     "metadata": {},
     "output_type": "execute_result"
    }
   ],
   "source": [
    "namecolor_to_rgb('yellow!80!white!50')"
   ]
  },
  {
   "cell_type": "markdown",
   "metadata": {},
   "source": [
    "## Examples applied"
   ]
  },
  {
   "cell_type": "markdown",
   "metadata": {},
   "source": [
    "### Selecting one color"
   ]
  },
  {
   "cell_type": "code",
   "execution_count": 79,
   "metadata": {},
   "outputs": [
    {
     "data": {
      "image/png": "[encoded data removed]",
      "text/plain": [
       "<Figure size 432x288 with 1 Axes>"
      ]
     },
     "metadata": {
      "needs_background": "light"
     },
     "output_type": "display_data"
    }
   ],
   "source": [
    "data_ = [10, 20, 10, 5]\n",
    "plt.bar(x = [1,2,3,4], \n",
    "        height = data_, \n",
    "        color = namecolor_to_rgb('yellow!50!white'))\n",
    "plt.show()        "
   ]
  },
  {
   "cell_type": "code",
   "execution_count": 61,
   "metadata": {},
   "outputs": [
    {
     "data": {
      "image/png": "[encoded data removed]",
      "text/plain": [
       "<Figure size 432x288 with 1 Axes>"
      ]
     },
     "metadata": {
      "needs_background": "light"
     },
     "output_type": "display_data"
    }
   ],
   "source": [
    "data_ = [10, 20, 10, 5]\n",
    "plt.bar(x = [1,2,3,4], \n",
    "        height = data_, \n",
    "        color = namecolor_to_rgb('yellow!60!green'))\n",
    "plt.show()        "
   ]
  },
  {
   "cell_type": "markdown",
   "metadata": {},
   "source": [
    "### Complementary color"
   ]
  },
  {
   "cell_type": "code",
   "execution_count": 86,
   "metadata": {},
   "outputs": [
    {
     "data": {
      "image/png": "[encoded data removed]",
      "text/plain": [
       "<Figure size 432x288 with 1 Axes>"
      ]
     },
     "metadata": {
      "needs_background": "light"
     },
     "output_type": "display_data"
    }
   ],
   "source": [
    "data_ = [10, 20, 10, 5]\n",
    "plt.bar(x = [1,2,3,4], \n",
    "        height = data_, \n",
    "        color = [namecolor_to_rgb('yellow!70!white'),\n",
    "                 namecolor_to_rgb('yellow!70!white'),\n",
    "                 namecolor_to_rgb('yellow!70!white', complementary = True),\n",
    "                 namecolor_to_rgb('yellow!70!white', complementary = True),])\n",
    "plt.show()        "
   ]
  },
  {
   "cell_type": "code",
   "execution_count": 89,
   "metadata": {},
   "outputs": [
    {
     "data": {
      "image/png": "[encoded data removed]",
      "text/plain": [
       "<Figure size 432x288 with 1 Axes>"
      ]
     },
     "metadata": {
      "needs_background": "light"
     },
     "output_type": "display_data"
    }
   ],
   "source": [
    "data_ = [10, 20, 10, 5]\n",
    "plt.bar(x = [1,2,3,4], \n",
    "        height = data_, \n",
    "        color = [namecolor_to_rgb('green!70!white'),\n",
    "                 namecolor_to_rgb('lightgreen!70!white'),\n",
    "                 namecolor_to_rgb('green!70!white', complementary = True),\n",
    "                 namecolor_to_rgb('lightgreen!70!white', complementary = True),])\n",
    "plt.show()        "
   ]
  },
  {
   "cell_type": "markdown",
   "metadata": {},
   "source": [
    "### Color gradient"
   ]
  },
  {
   "cell_type": "markdown",
   "metadata": {},
   "source": [
    "From light to color."
   ]
  },
  {
   "cell_type": "code",
   "execution_count": 62,
   "metadata": {},
   "outputs": [
    {
     "data": {
      "image/png": "[encoded data removed]",
      "text/plain": [
       "<Figure size 432x288 with 1 Axes>"
      ]
     },
     "metadata": {
      "needs_background": "light"
     },
     "output_type": "display_data"
    }
   ],
   "source": [
    "data_ = [10, 20, 10, 5, 10, 12, 8, 6, 12]\n",
    "plt.bar(x = [1,2,3,4,5,6,7,8,9], \n",
    "        height = data_, \n",
    "        color = [namecolor_to_rgb('yellow!10!white'),\n",
    "                 namecolor_to_rgb('yellow!20!white'),\n",
    "                 namecolor_to_rgb('yellow!30!white'),\n",
    "                 namecolor_to_rgb('yellow!40!white'),\n",
    "                 namecolor_to_rgb('yellow!50!white'),\n",
    "                 namecolor_to_rgb('yellow!60!white'),\n",
    "                 namecolor_to_rgb('yellow!70!white'),\n",
    "                 namecolor_to_rgb('yellow!80!white'),\n",
    "                 namecolor_to_rgb('yellow!90!white'),])\n",
    "plt.show()                 "
   ]
  },
  {
   "cell_type": "code",
   "execution_count": 64,
   "metadata": {},
   "outputs": [
    {
     "data": {
      "image/png": "[encoded data removed]",
      "text/plain": [
       "<Figure size 432x288 with 1 Axes>"
      ]
     },
     "metadata": {
      "needs_background": "light"
     },
     "output_type": "display_data"
    }
   ],
   "source": [
    "data_ = [10, 20, 10, 5, 10, 12, 8, 6, 12]\n",
    "plt.bar(x = [1,2,3,4,5,6,7,8,9], \n",
    "        height = data_, \n",
    "        color = [namecolor_to_rgb('darkred!10!white'),\n",
    "                 namecolor_to_rgb('darkred!20!white'),\n",
    "                 namecolor_to_rgb('darkred!30!white'),\n",
    "                 namecolor_to_rgb('darkred!40!white'),\n",
    "                 namecolor_to_rgb('darkred!50!white'),\n",
    "                 namecolor_to_rgb('darkred!60!white'),\n",
    "                 namecolor_to_rgb('darkred!70!white'),\n",
    "                 namecolor_to_rgb('darkred!80!white'),\n",
    "                 namecolor_to_rgb('darkred!90!white'),])\n",
    "plt.show()                 "
   ]
  },
  {
   "cell_type": "markdown",
   "metadata": {},
   "source": [
    "From black to color."
   ]
  },
  {
   "cell_type": "code",
   "execution_count": 63,
   "metadata": {},
   "outputs": [
    {
     "data": {
      "image/png": "[encoded data removed]",
      "text/plain": [
       "<Figure size 432x288 with 1 Axes>"
      ]
     },
     "metadata": {
      "needs_background": "light"
     },
     "output_type": "display_data"
    }
   ],
   "source": [
    "data_ = [10, 20, 10, 5, 10, 12, 8, 6, 12]\n",
    "plt.bar(x = [1,2,3,4,5,6,7,8,9], \n",
    "        height = data_, \n",
    "        color = [namecolor_to_rgb('yellow!10!black'),\n",
    "                 namecolor_to_rgb('yellow!20!black'),\n",
    "                 namecolor_to_rgb('yellow!30!black'),\n",
    "                 namecolor_to_rgb('yellow!40!black'),\n",
    "                 namecolor_to_rgb('yellow!50!black'),\n",
    "                 namecolor_to_rgb('yellow!60!black'),\n",
    "                 namecolor_to_rgb('yellow!70!black'),\n",
    "                 namecolor_to_rgb('yellow!80!black'),\n",
    "                 namecolor_to_rgb('yellow!90!black'),])\n",
    "plt.show()                 "
   ]
  },
  {
   "cell_type": "markdown",
   "metadata": {},
   "source": [
    "Gradient between two colors."
   ]
  },
  {
   "cell_type": "code",
   "execution_count": 65,
   "metadata": {},
   "outputs": [
    {
     "data": {
      "image/png": "[encoded data removed]",
      "text/plain": [
       "<Figure size 432x288 with 1 Axes>"
      ]
     },
     "metadata": {
      "needs_background": "light"
     },
     "output_type": "display_data"
    }
   ],
   "source": [
    "data_ = [10, 20, 10, 5, 10, 12, 8, 6, 12]\n",
    "plt.bar(x = [1,2,3,4,5,6,7,8,9], \n",
    "        height = data_, \n",
    "        color = [namecolor_to_rgb('darkred!10!deepskyblue'),\n",
    "                 namecolor_to_rgb('darkred!20!deepskyblue'),\n",
    "                 namecolor_to_rgb('darkred!30!deepskyblue'),\n",
    "                 namecolor_to_rgb('darkred!40!deepskyblue'),\n",
    "                 namecolor_to_rgb('darkred!50!deepskyblue'),\n",
    "                 namecolor_to_rgb('darkred!60!deepskyblue'),\n",
    "                 namecolor_to_rgb('darkred!70!deepskyblue'),\n",
    "                 namecolor_to_rgb('darkred!80!deepskyblue'),\n",
    "                 namecolor_to_rgb('darkred!90!deepskyblue'),])\n",
    "plt.show()                 "
   ]
  },
  {
   "cell_type": "markdown",
   "metadata": {},
   "source": [
    "Gradient between two colors using list comprehensions."
   ]
  },
  {
   "cell_type": "code",
   "execution_count": 66,
   "metadata": {},
   "outputs": [
    {
     "data": {
      "image/png": "[encoded data removed]",
      "text/plain": [
       "<Figure size 432x288 with 1 Axes>"
      ]
     },
     "metadata": {
      "needs_background": "light"
     },
     "output_type": "display_data"
    }
   ],
   "source": [
    "colores = ['darkred!' + str(x) + '!deepskyblue' for x in [10,20,30,40,50,60,70,80,90]]\n",
    "data_ = [10, 20, 10, 5, 10, 12, 8, 6, 12]\n",
    "plt.bar(x = [1,2,3,4,5,6,7,8,9], \n",
    "        height = data_, \n",
    "        color = list(map(namecolor_to_rgb, colores)))\n",
    "plt.show()        "
   ]
  },
  {
   "cell_type": "code",
   "execution_count": 67,
   "metadata": {},
   "outputs": [
    {
     "data": {
      "image/png": "[encoded data removed]",
      "text/plain": [
       "<Figure size 432x288 with 1 Axes>"
      ]
     },
     "metadata": {
      "needs_background": "light"
     },
     "output_type": "display_data"
    }
   ],
   "source": [
    "colores = ['darkred!50!deepskyblue!' + str(x) for x in [10,20,30,40,50,60,70,80,90]]\n",
    "data_ = [10, 20, 10, 5, 10, 12, 8, 6, 12]\n",
    "plt.bar(x = [1,2,3,4,5,6,7,8,9], \n",
    "        height = data_, \n",
    "        color = list(map(namecolor_to_rgb, colores)))\n",
    "plt.show()        "
   ]
  },
  {
   "cell_type": "code",
   "execution_count": 68,
   "metadata": {},
   "outputs": [
    {
     "data": {
      "image/png": "[encoded data removed]",
      "text/plain": [
       "<Figure size 432x288 with 1 Axes>"
      ]
     },
     "metadata": {
      "needs_background": "light"
     },
     "output_type": "display_data"
    }
   ],
   "source": [
    "colores = ['darkred!70!deepskyblue!' + str(x) for x in [10,20,30,40,50,60,70,80,90]]\n",
    "data_ = [10, 20, 10, 5, 10, 12, 8, 6, 12]\n",
    "plt.bar(x = [1,2,3,4,5,6,7,8,9], \n",
    "        height = data_, \n",
    "        color = list(map(namecolor_to_rgb, colores)))\n",
    "plt.show()        "
   ]
  },
  {
   "cell_type": "code",
   "execution_count": 69,
   "metadata": {},
   "outputs": [
    {
     "data": {
      "image/png": "[encoded data removed]",
      "text/plain": [
       "<Figure size 432x288 with 1 Axes>"
      ]
     },
     "metadata": {
      "needs_background": "light"
     },
     "output_type": "display_data"
    }
   ],
   "source": [
    "data_ = np.repeat(10,100)\n",
    "colores = ['darkorange!' + str(x) + '!dodgerblue' for x in range(100)]\n",
    "\n",
    "plt.bar(x = range(100), height = data_, width = 1.0,\n",
    "        color = list(map(namecolor_to_rgb, colores)))\n",
    "plt.show()        "
   ]
  },
  {
   "cell_type": "code",
   "execution_count": 70,
   "metadata": {},
   "outputs": [
    {
     "data": {
      "image/png": "[encoded data removed]",
      "text/plain": [
       "<Figure size 432x288 with 1 Axes>"
      ]
     },
     "metadata": {
      "needs_background": "light"
     },
     "output_type": "display_data"
    }
   ],
   "source": [
    "data_ = np.repeat(10,100)\n",
    "colores = ['purple!' + str(x) + '!olivedrab' for x in range(100)]\n",
    "\n",
    "plt.bar(x = range(100), height = data_, width = 1.0,\n",
    "        color = list(map(namecolor_to_rgb, colores)))\n",
    "plt.show()        "
   ]
  },
  {
   "cell_type": "markdown",
   "metadata": {},
   "source": [
    "### Using the color name"
   ]
  },
  {
   "cell_type": "code",
   "execution_count": 71,
   "metadata": {},
   "outputs": [],
   "source": [
    "import matplotlib.colors as mcolors"
   ]
  },
  {
   "cell_type": "code",
   "execution_count": 75,
   "metadata": {},
   "outputs": [],
   "source": [
    "list_of_colors = list(mcolors.CSS4_COLORS.keys())\n",
    "\n",
    "colors_to_plot_ = []\n",
    "\n",
    "for i_ in range(20):\n",
    "    color1_ = np.random.choice(list_of_colors, size = 1)[0]\n",
    "    color2_ = np.random.choice(list_of_colors, size = 1)[0]\n",
    "    mix_ = np.random.randint(low = 0, high = 99, size = 1)[0]\n",
    "    \n",
    "    colors_to_plot_.append(color1_ + '!' + str(mix_) + '!' + color2_)    \n"
   ]
  },
  {
   "cell_type": "code",
   "execution_count": 76,
   "metadata": {},
   "outputs": [
    {
     "data": {
      "text/plain": [
       "['lightgray!58!royalblue',\n",
       " 'ivory!54!peachpuff',\n",
       " 'seagreen!47!papayawhip',\n",
       " 'darkviolet!47!dodgerblue',\n",
       " 'gold!42!royalblue',\n",
       " 'gainsboro!18!khaki',\n",
       " 'orange!86!moccasin',\n",
       " 'skyblue!30!darkgreen',\n",
       " 'powderblue!93!linen',\n",
       " 'darkmagenta!92!magenta',\n",
       " 'salmon!81!blueviolet',\n",
       " 'lightgoldenrodyellow!33!magenta',\n",
       " 'turquoise!91!salmon',\n",
       " 'brown!87!magenta',\n",
       " 'darkslategray!0!purple',\n",
       " 'firebrick!25!darksalmon',\n",
       " 'lemonchiffon!80!brown',\n",
       " 'coral!4!olivedrab',\n",
       " 'blueviolet!15!palevioletred',\n",
       " 'palegreen!21!darkgray']"
      ]
     },
     "execution_count": 76,
     "metadata": {},
     "output_type": "execute_result"
    }
   ],
   "source": [
    "colors_to_plot_"
   ]
  },
  {
   "cell_type": "code",
   "execution_count": 77,
   "metadata": {},
   "outputs": [
    {
     "data": {
      "image/png": "[encoded data removed]",
      "text/plain": [
       "<Figure size 432x288 with 1 Axes>"
      ]
     },
     "metadata": {
      "needs_background": "light"
     },
     "output_type": "display_data"
    }
   ],
   "source": [
    "data_ = [10, 15, 10, 5, 10, 12, 8, 6, 12, 5, 8, 9, 8, 5, 8, 3, 9, 7, 12, 13]\n",
    "plt.bar(x = [1,2,3,4,5,6,7,8,9,10,11,12,13,14,15,16,17,18,19,20], \n",
    "        height = data_, \n",
    "        color = list(map(namecolor_to_rgb, colors_to_plot_)))\n",
    "plt.show()        "
   ]
  }
 ],
 "metadata": {
  "kernelspec": {
   "display_name": "Python 3",
   "language": "python",
   "name": "python3"
  },
  "language_info": {
   "name": ""
  }
 },
 "nbformat": 4,
 "nbformat_minor": 4
}
